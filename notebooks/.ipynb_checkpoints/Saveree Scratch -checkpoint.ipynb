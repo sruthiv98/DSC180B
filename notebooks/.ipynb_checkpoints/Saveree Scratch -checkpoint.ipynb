{
 "cells": [
  {
   "cell_type": "markdown",
   "metadata": {},
   "source": [
    "# Checkpoint 2 - EDA"
   ]
  },
  {
   "cell_type": "code",
   "execution_count": 1,
   "metadata": {},
   "outputs": [],
   "source": [
    "import numpy as np\n",
    "import librosa, librosa.display\n",
    "import matplotlib.pyplot as plt\n",
    "%matplotlib inline\n",
    "import os, numpy, scipy, statistics, matplotlib.pyplot as plt, IPython.display as ipd\n",
    "from IPython.display import Audio\n",
    "import pandas as pd\n",
    "from scipy.stats import mode\n",
    "import json\n",
    "import IPython.display as ipd\n",
    "from scipy.stats import mode\n",
    "import nltk \n",
    "from nltk.util import ngrams\n"
   ]
  },
  {
   "cell_type": "code",
   "execution_count": 2,
   "metadata": {},
   "outputs": [],
   "source": [
    "def load(indir=None,outdir=None): \n",
    "    songs = os.listdir(indir)\n",
    "    y_array = []\n",
    "    sr_array = []\n",
    "    song_name = []\n",
    "    for i in songs:\n",
    "        if '.DS_Store' in i: \n",
    "            continue\n",
    "        y, sr = librosa.load(indir+'/'+ i)\n",
    "        y_array.append(y)\n",
    "        sr_array.append(sr)\n",
    "        song_name.append(i)\n",
    "    \n",
    "    \n",
    "    df = pd.DataFrame({'Name': song_name,\n",
    "                       'y': y_array,\n",
    "                       'sr': sr_array})\n",
    "    #df.to_csv(os.path.join(outdir,r'loaded_data.csv',index=False))\n",
    "    #df.to_json(os.path.join(outdir,r'loaded_data.txt'))\n",
    "    \n",
    "    return df"
   ]
  },
  {
   "cell_type": "code",
   "execution_count": 3,
   "metadata": {},
   "outputs": [],
   "source": [
    "def get_clean_data(df):\n",
    "    dfdict = {'songs': [], 'y': [], 'sr': []}\n",
    "    fmin = librosa.midi_to_hz(36)\n",
    "    hop_length = 512\n",
    "    \n",
    "    audio = list(df['Name'])\n",
    "    ys = np.asarray(list(df['y']))\n",
    "    srs = list(df['sr'])\n",
    "\n",
    "    \n",
    "    pitchdict = {'Asavari Natabhairavi 1': 'C#', 'Asavari Natabhairavi 2': 'D',\n",
    "                 'Asavari Natabhairavi 3': 'D',\n",
    "               'Bhairav Mayamalavagowlai 1': 'C#', 'Bhairav Mayamalavagowlai 2': 'C', \n",
    "               'Bhairav Mayamalavagowlai 3': 'C#', 'Bhairav Mayamalavagowlai 4': 'D', \n",
    "                'Bhairav Mayamalavagowlai 5': 'D', \n",
    "                'Bhairavi Hanumatodi 1': 'D',\n",
    "               'Bhairavi Hanumatodi 2': 'C', 'Bhairavi Hanumatodi 3': 'D#',\n",
    "               'Bilawal Dheerashankarabharanam 1': 'D', 'Bilawal Dheerashankarabharanam 2': 'D#',\n",
    "               'Bilawal Dheerashankarabharanam 3': 'E', \n",
    "                 'Bilawal Dheerashankarabharanam 4': 'C#',\n",
    "                 'Bilawal Dheerashankarabharanam 5': 'C#',\n",
    "                 'Kafi Karaharapriya 1': 'D',\n",
    "               'Kafi Karaharapriya 2': 'D', 'Kafi Karaharapriya 3': 'D#',\n",
    "               \"Kalyan Kalyani 1\": 'E', \"Kalyan Kalyani 2\": 'D#', 'Kalyan Kalyani 3': 'D#',\n",
    "                 \"Kalyan Kalyani 4\": 'D',\"Kalyan Kalyani 5\": 'D',\n",
    "               'Khamaj Harikambhoji 1': 'D', 'Khamaj Harikambhoji 2': 'E', 'Khamaj Harikambhoji 3': 'E',\n",
    "                  'Khamaj Harikambhoji 4': 'E',  'Khamaj Harikambhoji 5': 'C#',\n",
    "               'Marva Gamanasharma 1': 'C', 'Marva Gamanasharma 2': 'E', 'Marva Gamanasharma 3': 'D',\n",
    "                'Marva Gamanasharma 4': 'C#','Poorvi Kamavardhani 1': 'C#', 'Poorvi Kamavardhani 2': 'C#',\n",
    "                 'Poorvi Kamavardhani 3': 'C#', 'Todi Subhapantuvarali 1': 'C', 'Todi Subhapantuvarali 2': 'C#', 'Todi Subhapantuvarali 3': 'D'}\n",
    "    \n",
    "    #iterate through input dict\n",
    "    for i in range(len(df)):\n",
    "        \n",
    "        y = ys[i]\n",
    "        sr = srs[i]\n",
    "        \n",
    "        #check pitch of each input\n",
    "        #chromagram = librosa.feature.chroma_stft(y, sr=sr, hop_length=hop_length)\n",
    "        \n",
    "        pitch = pitchdict[audio[i][:-4]]\n",
    "        \n",
    "        if pitch == 'C':\n",
    "            newy = y\n",
    "        elif pitch == 'C#':\n",
    "            newy = librosa.effects.pitch_shift(y, sr, n_steps=-1)\n",
    "        elif pitch == 'D':\n",
    "            newy = librosa.effects.pitch_shift(y, sr, n_steps=-2)\n",
    "        elif pitch == 'D#':\n",
    "            newy = librosa.effects.pitch_shift(y, sr, n_steps=-3)\n",
    "        elif pitch == 'E':\n",
    "            newy = librosa.effects.pitch_shift(y, sr, n_steps=-4)\n",
    "        elif pitch == 'F':\n",
    "            newy = librosa.effects.pitch_shift(y, sr, n_steps=-5)\n",
    "        elif pitch == 'F#':\n",
    "            newy = librosa.effects.pitch_shift(y, sr, n_steps=-6)\n",
    "        elif pitch == 'G':\n",
    "            newy = librosa.effects.pitch_shift(y, sr, n_steps=-7)\n",
    "        elif pitch == 'G#':\n",
    "            newy = librosa.effects.pitch_shift(y, sr, n_steps=+4)\n",
    "        elif pitch == 'A':\n",
    "            newy = librosa.effects.pitch_shift(y, sr, n_steps=+3)\n",
    "        elif pitch == 'A#':\n",
    "            newy = librosa.effects.pitch_shift(y, sr, n_steps=+2)\n",
    "        elif pitch == 'B':\n",
    "            newy = librosa.effects.pitch_shift(y, sr, n_steps=+1)\n",
    "        \n",
    "        y = newy  \n",
    "        ylist = []\n",
    "        first = 0\n",
    "        second = 10000\n",
    "        while second < len(y):\n",
    "            \n",
    "            ylist.append(y[first:second])\n",
    "            first = second\n",
    "            second = second + 10000\n",
    "            \n",
    "        cliptitles = []\n",
    "        \n",
    "        for j in range(len(ylist)):\n",
    "            string = audio[i][:-6]\n",
    "            cliptitles.append(string)\n",
    "            \n",
    "        for k in range(len(cliptitles)):\n",
    "            dfdict['songs'].append(cliptitles[k])\n",
    "            dfdict['y'].append(ylist[k])\n",
    "\n",
    "            dfdict['sr'].append(sr)\n",
    "            \n",
    "    newdf = pd.DataFrame(dfdict)\n",
    "    \n",
    "    return newdf"
   ]
  },
  {
   "cell_type": "code",
   "execution_count": 4,
   "metadata": {},
   "outputs": [],
   "source": [
    "def clean_data(indir = None, outdir = None):\n",
    "\n",
    "    if outdir and not os.path.exists(outdir):\n",
    "        os.makedirs(outdir)\n",
    "    df = pd.read_pickle('data/loaded_data.pkl')  \n",
    "    cleaned = get_clean_data(df)\n",
    "   \n",
    "    cleaned.to_pickle(os.path.join(outdir,r'cleaned_data.pkl'))\n",
    "    \n",
    "    return cleaned"
   ]
  },
  {
   "cell_type": "markdown",
   "metadata": {},
   "source": [
    "# EDA"
   ]
  },
  {
   "cell_type": "code",
   "execution_count": 84,
   "metadata": {},
   "outputs": [
    {
     "name": "stdout",
     "output_type": "stream",
     "text": [
      "[[0.267004 0.004874 0.329415 1.      ]\n",
      " [0.993248 0.906157 0.143936 1.      ]]\n"
     ]
    }
   ],
   "source": [
    "import numpy as np\n",
    "import matplotlib.pyplot as plt\n",
    "from matplotlib import cm\n",
    "from matplotlib.colors import ListedColormap, LinearSegmentedColormap\n",
    "\n",
    "virdis = cm.get_cmap('viridis', 12)\n",
    "print(viridis.colors)"
   ]
  },
  {
   "cell_type": "code",
   "execution_count": 88,
   "metadata": {},
   "outputs": [],
   "source": []
  },
  {
   "cell_type": "code",
   "execution_count": 69,
   "metadata": {},
   "outputs": [
    {
     "name": "stderr",
     "output_type": "stream",
     "text": [
      "/anaconda3/lib/python3.6/site-packages/librosa/core/audio.py:161: UserWarning: PySoundFile failed. Trying audioread instead.\n",
      "  warnings.warn('PySoundFile failed. Trying audioread instead.')\n"
     ]
    }
   ],
   "source": [
    "y,sr = librosa.load('test_data_raw/Bhairav Mayamalavagowlai 2.mp3',duration=45,offset=45)"
   ]
  },
  {
   "cell_type": "code",
   "execution_count": 100,
   "metadata": {},
   "outputs": [
    {
     "data": {
      "text/plain": [
       "<matplotlib.colorbar.Colorbar at 0x13223f978>"
      ]
     },
     "execution_count": 100,
     "metadata": {},
     "output_type": "execute_result"
    },
    {
     "data": {
      "image/png": "[encoded data removed]",
      "text/plain": [
       "<Figure size 1512x360 with 2 Axes>"
      ]
     },
     "metadata": {},
     "output_type": "display_data"
    }
   ],
   "source": [
    "chromagram = librosa.feature.chroma_stft(y,sr)\n",
    "plt.figure(figsize=(21, 5))\n",
    "librosa.display.specshow(chromagram, x_axis='time', y_axis='chroma', hop_length=512, cmap='coolwarm')\n",
    "plt.colorbar(format='%+2.0f dB')"
   ]
  },
  {
   "cell_type": "code",
   "execution_count": 95,
   "metadata": {},
   "outputs": [],
   "source": [
    "viridis = cm.get_cmap('viridis', 256)\n",
    "newcolors = viridis(np.linspace(0, 1, 256))\n",
    "pink = np.array([20/256, 24/256, 64/256, 1])\n",
    "newcolors[:200, :] = pink\n",
    "newcmp = ListedColormap(newcolors)"
   ]
  },
  {
   "cell_type": "code",
   "execution_count": null,
   "metadata": {},
   "outputs": [],
   "source": []
  },
  {
   "cell_type": "code",
   "execution_count": 99,
   "metadata": {},
   "outputs": [
    {
     "data": {
      "text/plain": [
       "<matplotlib.colorbar.Colorbar at 0x13217ee80>"
      ]
     },
     "execution_count": 99,
     "metadata": {},
     "output_type": "execute_result"
    },
    {
     "data": {
      "image/png": "[encoded data removed]",
      "text/plain": [
       "<Figure size 1512x360 with 2 Axes>"
      ]
     },
     "metadata": {},
     "output_type": "display_data"
    }
   ],
   "source": [
    "plt.figure(figsize=(21, 5))\n",
    "librosa.display.specshow(chromagram, x_axis='time', y_axis='chroma', hop_length=512, cmap=newcmp)\n",
    "plt.colorbar(format='%+2.0f dB')"
   ]
  },
  {
   "cell_type": "code",
   "execution_count": 4,
   "metadata": {},
   "outputs": [],
   "source": [
    "def average_dist(df):\n",
    "    y_list = df['y'] #ys for every clip\n",
    "    sr_list = df['sr']\n",
    "    hop_length = 512\n",
    "    notes = {'C': 0,'C#': 0,'D': 0,'D#': 0,'E': 0,'F': 0,'F#': 0,'G': 0,'G#': 0,'A': 0,'A#': 0,'B': 0}\n",
    "    global_notecount = 0 \n",
    "    #goes through all clips\n",
    "    for i in range(len(y_list)): \n",
    "        \n",
    "        chromagram = librosa.feature.chroma_stft(y = y_list[i], sr=sr_list[i], hop_length=hop_length)\n",
    "        #plt.figure(figsize=(17, 5))\n",
    "        #librosa.display.specshow(chromagram, x_axis='time', y_axis='chroma', hop_length=512, cmap='coolwarm')\n",
    "        \n",
    "        notecount = 0 #total number of notes we are getting from clip\n",
    "        counts = [] #final length should be 12\n",
    "     \n",
    "        seq_notes = []\n",
    "        #go through each 1/43rd of a second \n",
    "       # print(len(chromagram.T),'chromagram.T should be large number')\n",
    "        for row in chromagram.T:\n",
    "            seq_notes.append(np.argmax(row)) #index of note with highest frequency at that 1/43rd of a second\n",
    "        all_notes = pd.Series(seq_notes).apply(numtonote)\n",
    "    \n",
    "        values = []\n",
    "        for i in range(0, len(all_notes),86):\n",
    "            curr = all_notes[i:i+86]\n",
    "            values.append(mode(curr)[0][0])\n",
    "        notecount = len(values)\n",
    "        global_notecount += notecount\n",
    "        \n",
    "        #add notecount to global dictionary directly\n",
    "        for i in values:   \n",
    "            if i in notes:\n",
    "                notes[i]+=1\n",
    "            else: \n",
    "                notes[i] = 1\n",
    "        \n",
    "\n",
    "    for note in notes:\n",
    "        notes[note] = notes[note]/global_notecount\n",
    "        \n",
    "    notedf = pd.DataFrame.from_dict(notes, orient = 'index')\n",
    "    return notedf\n",
    "\n",
    "\n",
    "def EDA(df): \n",
    "    \n",
    "    cleaned_df = get_clean_data(df)\n",
    "    \n",
    "    histogram_df = average_dist(cleaned_df)\n",
    "    histogram_df = histogram_df.sort_values(by=0,ascending=False).rename(columns={0:'Notes'})\n",
    "    #plot = histogram_df.sort_values(by=[0])[:7].sort_index().rename(columns={0:'Notes'}).plot(kind = 'bar', title = 'Songs')\n",
    "    #plot.set_xlabel(\"Notes\")\n",
    "    #plot.set_ylabel(\"Frequency\")\n",
    "    \n",
    "    return histogram_df"
   ]
  },
  {
   "cell_type": "code",
   "execution_count": 6,
   "metadata": {},
   "outputs": [],
   "source": [
    "#TRIGRAM BIGRAM"
   ]
  },
  {
   "cell_type": "code",
   "execution_count": 5,
   "metadata": {},
   "outputs": [],
   "source": [
    "def extract_ngrams(chromagram, num):\n",
    "    seq_notes = []\n",
    "    max_val = []\n",
    "    for row in chromagram.T:\n",
    "        seq_notes.append(np.argmax(row))\n",
    "        max_val.append(np.max(row))\n",
    "    all_notes = pd.Series(seq_notes).apply(numtonote)\n",
    "\n",
    "    values = []\n",
    "    for i in range(0, len(all_notes),22):\n",
    "        curr = all_notes[i:i+22]\n",
    "        values.append(mode(curr)[0][0])\n",
    "    #print(values)\n",
    "\n",
    "    newvals = []\n",
    "    for i in range(len(values)):\n",
    "        if i != 0 and values[i] == values[i-1]:\n",
    "            continue\n",
    "        else:\n",
    "            newvals.append(values[i])\n",
    "    #print(newvals)\n",
    "        \n",
    "    \n",
    "    n_grams = ngrams(newvals, num)\n",
    "    fdist = nltk.FreqDist(n_grams)\n",
    "    ngramlist = []\n",
    "    counts = []\n",
    "    for k,v in fdist.items():\n",
    "        ngramlist.append(k)\n",
    "        counts.append(v)\n",
    "    clipdict = {ngramlist[i]: counts[i] for i in range(len(ngramlist))}\n",
    "\n",
    "    return clipdict"
   ]
  },
  {
   "cell_type": "code",
   "execution_count": 6,
   "metadata": {},
   "outputs": [],
   "source": [
    "def numtonote(num):\n",
    "    if num == 0:\n",
    "        return 'C'\n",
    "    if num == 1:\n",
    "        return 'C#'\n",
    "    if num == 2:\n",
    "        return 'D'\n",
    "    if num == 3:\n",
    "        return 'D#'\n",
    "    if num == 4:\n",
    "        return 'E'\n",
    "    if num == 5:\n",
    "        return 'F'\n",
    "    if num == 6:\n",
    "        return 'F#'\n",
    "    if num == 7:\n",
    "        return 'G'\n",
    "    if num == 8:\n",
    "        return 'G#'\n",
    "    if num == 9:\n",
    "        return 'A'\n",
    "    if num == 10:\n",
    "        return 'A#'\n",
    "    if num == 11:\n",
    "        return 'B'\n",
    "\n",
    "\n",
    "def create_ngrams(songs):\n",
    "    y_array = []\n",
    "    sr_array = []\n",
    "    song_name = []\n",
    "    for i in songs:\n",
    "        if '.DS_Store' in i: \n",
    "            continue\n",
    "        y,sr = librosa.load('test_data_raw/'+ i)\n",
    "        y_array.append(y)\n",
    "        sr_array.append(sr)\n",
    "        song_name.append(i)\n",
    "\n",
    "    df = pd.DataFrame({'Name': song_name,\n",
    "                       'y': y_array,\n",
    "                       'sr': sr_array})\n",
    "    \n",
    "    cleaned_df = get_clean_data(df)\n",
    "    #gives us df of clip title (raga name), y, sr\n",
    "    \n",
    "    y_list = cleaned_df['y']\n",
    "    sr_list = cleaned_df['sr']\n",
    "    \n",
    "    ragabigrams = {}\n",
    "    ragatrigrams = {}\n",
    "    \n",
    "    for i in range(len(y_list)):\n",
    "        chromagram = librosa.feature.chroma_stft(y = y_list[i], sr=sr_list[i], hop_length=512)\n",
    "        if i == 2: \n",
    "            plt.figure(figsize=(17, 5))\n",
    "            librosa.display.specshow(chromagram, x_axis='time', y_axis='chroma', hop_length=512, cmap='coolwarm')\n",
    "            \n",
    "        \n",
    "        #helper function return\n",
    "        bigramdict = extract_ngrams(chromagram,2)\n",
    "        for key in bigramdict:\n",
    "            if key in ragabigrams:\n",
    "                ragabigrams[key] += bigramdict[key]\n",
    "                \n",
    "            else:\n",
    "                ragabigrams[key] = bigramdict[key]\n",
    "                \n",
    "                bigramdict = extract_ngrams(chromagram,2)\n",
    "        \n",
    "        trigramdict = extract_ngrams(chromagram,3)\n",
    "        for key in trigramdict:\n",
    "            if key in ragatrigrams:\n",
    "                ragatrigrams[key] += trigramdict[key]\n",
    "                \n",
    "            else:\n",
    "                ragatrigrams[key] = trigramdict[key]\n",
    "        \n",
    "        \n",
    "    #bdf = pd.DataFrame(ragabigrams)\n",
    "    #tdf = pd.DataFrame(ragatrigrams)\n",
    "    \n",
    "    bdf = pd.DataFrame({'Bigrams': list(ragabigrams.keys()), 'Counts': list(ragabigrams.values())})\n",
    "    plot = bdf.sort_values(by = 'Counts', ascending = False)[:10].plot(kind = 'bar', x= 'Bigrams', y = 'Counts', title = songs[0][:-6]) \n",
    "    plot.set_xlabel(\"Bigrams\")\n",
    "    plot.set_ylabel(\"Counts\")\n",
    "    \n",
    "    tdf = pd.DataFrame({'Trigrams': list(ragatrigrams.keys()), 'Counts': list(ragatrigrams.values())})\n",
    "    plot2 = tdf.sort_values(by = 'Counts', ascending = False)[:10].plot(kind = 'bar', x= 'Trigrams', y = 'Counts', title = songs[0][:-6]) \n",
    "    plot2.set_xlabel(\"Trigrams\")\n",
    "    plot2.set_ylabel(\"Counts\")\n",
    "    \n",
    "    \n",
    "    \n",
    "    return ipd.Audio(y_list[2],rate=sr_list[2])\n",
    "def extract_ngrams(chromagram, num):\n",
    "    seq_notes = []\n",
    "    max_val = []\n",
    "    for row in chromagram.T:\n",
    "        seq_notes.append(np.argmax(row))\n",
    "        max_val.append(np.max(row))\n",
    "    all_notes = pd.Series(seq_notes).apply(numtonote)\n",
    "\n",
    "    values = []\n",
    "    for i in range(0, len(all_notes),22):\n",
    "        curr = all_notes[i:i+22]\n",
    "        values.append(mode(curr)[0][0])\n",
    "    #print(values)\n",
    "\n",
    "    newvals = []\n",
    "    for i in range(len(values)):\n",
    "        if i != 0 and values[i] == values[i-1]:\n",
    "            continue\n",
    "        else:\n",
    "            newvals.append(values[i])\n",
    "    #print(newvals)\n",
    "        \n",
    "    \n",
    "    n_grams = ngrams(newvals, num)\n",
    "    fdist = nltk.FreqDist(n_grams)\n",
    "    ngramlist = []\n",
    "    counts = []\n",
    "    for k,v in fdist.items():\n",
    "        ngramlist.append(k)\n",
    "        counts.append(v)\n",
    "    clipdict = {ngramlist[i]: counts[i] for i in range(len(ngramlist))}\n",
    "\n",
    "    return clipdict"
   ]
  },
  {
   "cell_type": "code",
   "execution_count": 7,
   "metadata": {},
   "outputs": [],
   "source": [
    "#returns top 8 notes of audio file you put in \n",
    "def find_raga(audio_file):\n",
    "    frequency_df = EDA(audio_file)\n",
    "    top_notes = list(frequency_df.index)\n",
    "    compare_list = []\n",
    "    \n",
    "    for i in raga_dict: \n",
    "        compare_list.append(len(set(raga_dict[i]) & set(top_notes)))\n",
    "    \n",
    "    max_index = np.argmax(compare_list)\n",
    "    raga_name = list(raga_dict)[max_index]\n",
    "    print(raga_name,'raga name')\n",
    "    print(raga_dict[raga_name],'notes')\n",
    "    return raga_name"
   ]
  },
  {
   "cell_type": "code",
   "execution_count": 8,
   "metadata": {},
   "outputs": [],
   "source": [
    "#scales of ragas\n",
    "raga_dict = {'Asavari': ['C','D','D#','F','G','G#','A#','C'],\n",
    "            'Bilawal': ['C','D','E','F','G','A','B','C'],\n",
    "            'Bhairav': ['C','C#','E','F','G','G#','B','C'],\n",
    "            'Bhairavi': ['C','C#','D#','F','G','G#','A#','C'],\n",
    "            'Kafi': ['C','D','D#','F','G','A','A#','C'],\n",
    "            'Kalyan': ['C','D','E','F#','G','A','B','C'],\n",
    "            'Khamaj': ['C','D','E','F','G','A','A#','C'],\n",
    "            'Marwa': ['C','C#','E','F#','G','A','B','C'],\n",
    "            'Poorvi': ['C','C#','E','F#','G','G#','B','C'],\n",
    "            'Todi': ['C','C#','D#','F#','G','G#','B','C']}"
   ]
  },
  {
   "cell_type": "code",
   "execution_count": 9,
   "metadata": {},
   "outputs": [],
   "source": [
    "def raga_finder_individual_clips(songs):\n",
    "    y_array = []\n",
    "    sr_array = []\n",
    "    song_name = []\n",
    "    for i in songs:\n",
    "        if '.DS_Store' in i: \n",
    "            continue\n",
    "        y,sr = librosa.load('test_data_raw/'+ i)\n",
    "        y_array.append(y)\n",
    "        sr_array.append(sr)\n",
    "        song_name.append(i)\n",
    "\n",
    "    df = pd.DataFrame({'Name': song_name,\n",
    "                       'y': y_array,\n",
    "                       'sr': sr_array})\n",
    "    cleaned_df = get_clean_data(df) \n",
    "    display(len(cleaned_df),'len cleaned df ')\n",
    "    y_list = cleaned_df['y']\n",
    "    sr_list = cleaned_df['sr']\n",
    "    \n",
    "    raga_list = []\n",
    "    notes_list = []\n",
    "    for i in range(len(cleaned_df)):\n",
    "        \n",
    "        chromagram = librosa.feature.chroma_stft(y = y_list[i], sr=sr_list[i], hop_length=512)\n",
    "        top_8 = return_main_notes(chromagram)\n",
    "        print(top_8,'top8')\n",
    "        #immediately classify that smaller clip \n",
    "        compare_list = []\n",
    "\n",
    "        for j in raga_dict: \n",
    "            compare_list.append(len(set(raga_dict[j]) & set(top_8)))\n",
    "\n",
    "        max_index = np.argmax(compare_list)\n",
    "        raga_name = list(raga_dict)[max_index]\n",
    "        raga_list.append(raga_name)\n",
    "        notes_list.append(raga_dict[raga_name])\n",
    "    print(len(raga_list),'rag list')\n",
    "    print(len(notes_list),'notes list')\n",
    "\n",
    "    return raga_list#dict(zip(raga_list, notes_list)) "
   ]
  },
  {
   "cell_type": "code",
   "execution_count": 10,
   "metadata": {},
   "outputs": [],
   "source": [
    "def raga_finder_whole_song(songs):\n",
    "   \n",
    "    eda = EDA(songs)\n",
    "    top_8 = list(eda.index)\n",
    "    print(top_8,'top 8')\n",
    "    \n",
    "    compare_list = []\n",
    "    for i in raga_dict: \n",
    "        compare_list.append(len(set(raga_dict[i]) & set(top_8)))\n",
    "    print(compare_list,'compare list')\n",
    "\n",
    "    max_index = np.argmax(compare_list)\n",
    "    raga_name = list(raga_dict)[max_index]\n",
    "    \n",
    "    return raga_name"
   ]
  },
  {
   "cell_type": "code",
   "execution_count": 11,
   "metadata": {},
   "outputs": [],
   "source": [
    "#gives back 8 notes \n",
    "def return_main_notes(chromagram):\n",
    "    total_occurences_above_8 = []\n",
    "    notes = {'C': 0,'C#': 0,'D': 0,'D#': 0,'E': 0,'F': 0,'F#': 0,'G': 0,'G#': 0,'A': 0,'A#': 0,'B': 0}\n",
    "\n",
    "    notecount = 0 #total number of notes we are getting from clip\n",
    "    counts = [] #final length should be 12\n",
    "\n",
    "    seq_notes = []\n",
    "    #go through each 1/43rd of a second \n",
    "    for row in chromagram.T:\n",
    "        seq_notes.append(np.argmax(row)) #index of note with highest frequency at that 1/43rd of a second\n",
    "    all_notes = pd.Series(seq_notes).apply(numtonote)\n",
    "\n",
    "    values = []\n",
    "    for i in range(0, len(all_notes),86):\n",
    "        curr = all_notes[i:i+86]\n",
    "        values.append(mode(curr)[0][0])\n",
    "    notecount = len(values)\n",
    "\n",
    "    #add notecount to global dictionary directly\n",
    "    for i in values:   \n",
    "        if i in notes:\n",
    "            notes[i]+=1\n",
    "        else: \n",
    "            notes[i] = 1\n",
    "    \n",
    "    for n in notes: \n",
    "        notes[n] = notes[n]/notecount\n",
    "        \n",
    "    notedf = pd.DataFrame.from_dict(notes, orient = 'index')\n",
    "\n",
    "    main_notes = list(notedf.sort_values(by=0,ascending=False)[:7].index)\n",
    "        \n",
    "    return main_notes"
   ]
  },
  {
   "cell_type": "code",
   "execution_count": 12,
   "metadata": {},
   "outputs": [],
   "source": [
    "#accuracy score\n",
    "\n",
    "def accuracy_score(predictions,raga): \n",
    "    \n",
    "    acc_score = 0 \n",
    "    for i in range(len(predictions)): \n",
    "        if predictions[i] == raga: \n",
    "            acc_score+=1\n",
    "    return acc_score/len(predictions)"
   ]
  },
  {
   "cell_type": "code",
   "execution_count": 13,
   "metadata": {},
   "outputs": [],
   "source": [
    "#MODEL Development"
   ]
  },
  {
   "cell_type": "code",
   "execution_count": null,
   "metadata": {},
   "outputs": [],
   "source": [
    "#make a df of \n",
    "#Name, y, sr \n",
    "#Name is og name, y and sr have to be the trimmed one"
   ]
  },
  {
   "cell_type": "code",
   "execution_count": 14,
   "metadata": {},
   "outputs": [],
   "source": [
    "y_array = []\n",
    "sr_array = []"
   ]
  },
  {
   "cell_type": "code",
   "execution_count": 72,
   "metadata": {},
   "outputs": [
    {
     "data": {
      "text/plain": [
       "6"
      ]
     },
     "execution_count": 72,
     "metadata": {},
     "output_type": "execute_result"
    }
   ],
   "source": [
    "len(y_array)"
   ]
  },
  {
   "cell_type": "code",
   "execution_count": 15,
   "metadata": {},
   "outputs": [],
   "source": [
    "names = ['Bilawal Dheerashankarabharanam 1.mp3',\n",
    "        'Bilawal Dheerashankarabharanam 2.mp3',\n",
    "        'Bilawal Dheerashankarabharanam 2.mp3',\n",
    "        'Bilawal Dheerashankarabharanam 2.mp3',\n",
    "        'Bilawal Dheerashankarabharanam 3.mp3',\n",
    "        'Bilawal Dheerashankarabharanam 4.mp3']"
   ]
  },
  {
   "cell_type": "code",
   "execution_count": 24,
   "metadata": {},
   "outputs": [
    {
     "name": "stderr",
     "output_type": "stream",
     "text": [
      "/anaconda3/lib/python3.6/site-packages/librosa/core/audio.py:161: UserWarning: PySoundFile failed. Trying audioread instead.\n",
      "  warnings.warn('PySoundFile failed. Trying audioread instead.')\n"
     ]
    }
   ],
   "source": [
    "y,sr = librosa.load('test_data_raw/Bilawal Dheerashankarabharanam 4.mp3',offset=0,duration=300)\n",
    "y_array.append(y)\n",
    "sr_array.append(sr)"
   ]
  },
  {
   "cell_type": "code",
   "execution_count": 56,
   "metadata": {},
   "outputs": [],
   "source": [
    "def new_EDA(y1,sr1): \n",
    "    \n",
    "    df = pd.DataFrame({'Name':names[0],\n",
    "                     'y':y1,\n",
    "                      'sr':sr1})\n",
    "    \n",
    "    cleaned_df = get_clean_data(df)\n",
    "    \n",
    "    histogram_df = average_dist(cleaned_df)\n",
    "    histogram_df = histogram_df.sort_values(by=0,ascending=False).rename(columns={0:'Notes'})\n",
    "    #plot = histogram_df.sort_values(by=[0])[:7].sort_index().rename(columns={0:'Notes'}).plot(kind = 'bar', title = 'Songs')\n",
    "    #plot.set_xlabel(\"Notes\")\n",
    "    #plot.set_ylabel(\"Frequency\")\n",
    "    \n",
    "    return histogram_df"
   ]
  },
  {
   "cell_type": "code",
   "execution_count": 85,
   "metadata": {},
   "outputs": [],
   "source": [
    "def calculate_stats(y1,sr1,names): \n",
    "    frequencies = []\n",
    "    top_7 = []\n",
    "\n",
    "    for i in range(len(y1)): \n",
    "        df = pd.DataFrame({'Name':names[i],\n",
    "                  'y':y1[i],\n",
    "                  'sr':sr1[i]})\n",
    "        result = top_and_freq_for_one_clip(y1[i],sr1[i])\n",
    "        top_7.append(result[0])\n",
    "        frequencies.append(result[1])\n",
    "        names.append(names[i][:-4])\n",
    "    return frequencies, top_7, names"
   ]
  },
  {
   "cell_type": "code",
   "execution_count": 86,
   "metadata": {},
   "outputs": [],
   "source": [
    "def top_and_freq_for_one_clip(y1,sr1): \n",
    "  \n",
    "    \n",
    "    eda_result = new_EDA(y1,sr1)\n",
    "    top_notes = list(eda_result.sort_values(by=\"Notes\",ascending=False)[:7].index)\n",
    "    \n",
    "    top_frequencies = list(eda_result.sort_index()['Notes'])\n",
    "    \n",
    "    return [top_notes,top_frequencies]"
   ]
  },
  {
   "cell_type": "code",
   "execution_count": 87,
   "metadata": {},
   "outputs": [
    {
     "name": "stdout",
     "output_type": "stream",
     "text": [
      "[ 0.          0.          0.         ... -0.0450695  -0.04682785\n",
      " -0.02899472] y\n",
      "<class 'numpy.ndarray'>\n",
      "<class 'numpy.ndarray'>\n",
      "<class 'int'>\n"
     ]
    },
    {
     "ename": "ParameterError",
     "evalue": "Audio data must be of type numpy.ndarray",
     "output_type": "error",
     "traceback": [
      "\u001b[0;31m---------------------------------------------------------------------------\u001b[0m",
      "\u001b[0;31mParameterError\u001b[0m                            Traceback (most recent call last)",
      "\u001b[0;32m<ipython-input-87-25c2c5e693dd>\u001b[0m in \u001b[0;36m<module>\u001b[0;34m()\u001b[0m\n\u001b[0;32m----> 1\u001b[0;31m \u001b[0mbilawal\u001b[0m \u001b[0;34m=\u001b[0m \u001b[0mcalculate_stats\u001b[0m\u001b[0;34m(\u001b[0m\u001b[0my_array\u001b[0m\u001b[0;34m,\u001b[0m\u001b[0msr_array\u001b[0m\u001b[0;34m,\u001b[0m\u001b[0mnames\u001b[0m\u001b[0;34m)\u001b[0m\u001b[0;34m\u001b[0m\u001b[0;34m\u001b[0m\u001b[0m\n\u001b[0m",
      "\u001b[0;32m<ipython-input-85-b87863915dfc>\u001b[0m in \u001b[0;36mcalculate_stats\u001b[0;34m(y1, sr1, names)\u001b[0m\n\u001b[1;32m     11\u001b[0m         \u001b[0mprint\u001b[0m\u001b[0;34m(\u001b[0m\u001b[0mtype\u001b[0m\u001b[0;34m(\u001b[0m\u001b[0my1\u001b[0m\u001b[0;34m[\u001b[0m\u001b[0mi\u001b[0m\u001b[0;34m]\u001b[0m\u001b[0;34m)\u001b[0m\u001b[0;34m)\u001b[0m\u001b[0;34m\u001b[0m\u001b[0;34m\u001b[0m\u001b[0m\n\u001b[1;32m     12\u001b[0m         \u001b[0mprint\u001b[0m\u001b[0;34m(\u001b[0m\u001b[0mtype\u001b[0m\u001b[0;34m(\u001b[0m\u001b[0msr1\u001b[0m\u001b[0;34m[\u001b[0m\u001b[0mi\u001b[0m\u001b[0;34m]\u001b[0m\u001b[0;34m)\u001b[0m\u001b[0;34m)\u001b[0m\u001b[0;34m\u001b[0m\u001b[0;34m\u001b[0m\u001b[0m\n\u001b[0;32m---> 13\u001b[0;31m         \u001b[0mresult\u001b[0m \u001b[0;34m=\u001b[0m \u001b[0mtop_and_freq_for_one_clip\u001b[0m\u001b[0;34m(\u001b[0m\u001b[0my1\u001b[0m\u001b[0;34m[\u001b[0m\u001b[0mi\u001b[0m\u001b[0;34m]\u001b[0m\u001b[0;34m,\u001b[0m\u001b[0msr1\u001b[0m\u001b[0;34m[\u001b[0m\u001b[0mi\u001b[0m\u001b[0;34m]\u001b[0m\u001b[0;34m)\u001b[0m\u001b[0;34m\u001b[0m\u001b[0;34m\u001b[0m\u001b[0m\n\u001b[0m\u001b[1;32m     14\u001b[0m         \u001b[0mtop_7\u001b[0m\u001b[0;34m.\u001b[0m\u001b[0mappend\u001b[0m\u001b[0;34m(\u001b[0m\u001b[0mresult\u001b[0m\u001b[0;34m[\u001b[0m\u001b[0;36m0\u001b[0m\u001b[0;34m]\u001b[0m\u001b[0;34m)\u001b[0m\u001b[0;34m\u001b[0m\u001b[0;34m\u001b[0m\u001b[0m\n\u001b[1;32m     15\u001b[0m         \u001b[0mfrequencies\u001b[0m\u001b[0;34m.\u001b[0m\u001b[0mappend\u001b[0m\u001b[0;34m(\u001b[0m\u001b[0mresult\u001b[0m\u001b[0;34m[\u001b[0m\u001b[0;36m1\u001b[0m\u001b[0;34m]\u001b[0m\u001b[0;34m)\u001b[0m\u001b[0;34m\u001b[0m\u001b[0;34m\u001b[0m\u001b[0m\n",
      "\u001b[0;32m<ipython-input-86-b9a523f198a4>\u001b[0m in \u001b[0;36mtop_and_freq_for_one_clip\u001b[0;34m(y1, sr1)\u001b[0m\n\u001b[1;32m      2\u001b[0m \u001b[0;34m\u001b[0m\u001b[0m\n\u001b[1;32m      3\u001b[0m \u001b[0;34m\u001b[0m\u001b[0m\n\u001b[0;32m----> 4\u001b[0;31m     \u001b[0meda_result\u001b[0m \u001b[0;34m=\u001b[0m \u001b[0mnew_EDA\u001b[0m\u001b[0;34m(\u001b[0m\u001b[0my1\u001b[0m\u001b[0;34m,\u001b[0m\u001b[0msr1\u001b[0m\u001b[0;34m)\u001b[0m\u001b[0;34m\u001b[0m\u001b[0;34m\u001b[0m\u001b[0m\n\u001b[0m\u001b[1;32m      5\u001b[0m     \u001b[0mtop_notes\u001b[0m \u001b[0;34m=\u001b[0m \u001b[0mlist\u001b[0m\u001b[0;34m(\u001b[0m\u001b[0meda_result\u001b[0m\u001b[0;34m.\u001b[0m\u001b[0msort_values\u001b[0m\u001b[0;34m(\u001b[0m\u001b[0mby\u001b[0m\u001b[0;34m=\u001b[0m\u001b[0;34m\"Notes\"\u001b[0m\u001b[0;34m,\u001b[0m\u001b[0mascending\u001b[0m\u001b[0;34m=\u001b[0m\u001b[0;32mFalse\u001b[0m\u001b[0;34m)\u001b[0m\u001b[0;34m[\u001b[0m\u001b[0;34m:\u001b[0m\u001b[0;36m7\u001b[0m\u001b[0;34m]\u001b[0m\u001b[0;34m.\u001b[0m\u001b[0mindex\u001b[0m\u001b[0;34m)\u001b[0m\u001b[0;34m\u001b[0m\u001b[0;34m\u001b[0m\u001b[0m\n\u001b[1;32m      6\u001b[0m \u001b[0;34m\u001b[0m\u001b[0m\n",
      "\u001b[0;32m<ipython-input-56-aad0f9d61493>\u001b[0m in \u001b[0;36mnew_EDA\u001b[0;34m(y1, sr1)\u001b[0m\n\u001b[1;32m      5\u001b[0m                       'sr':sr1})\n\u001b[1;32m      6\u001b[0m \u001b[0;34m\u001b[0m\u001b[0m\n\u001b[0;32m----> 7\u001b[0;31m     \u001b[0mcleaned_df\u001b[0m \u001b[0;34m=\u001b[0m \u001b[0mget_clean_data\u001b[0m\u001b[0;34m(\u001b[0m\u001b[0mdf\u001b[0m\u001b[0;34m)\u001b[0m\u001b[0;34m\u001b[0m\u001b[0;34m\u001b[0m\u001b[0m\n\u001b[0m\u001b[1;32m      8\u001b[0m \u001b[0;34m\u001b[0m\u001b[0m\n\u001b[1;32m      9\u001b[0m     \u001b[0mhistogram_df\u001b[0m \u001b[0;34m=\u001b[0m \u001b[0maverage_dist\u001b[0m\u001b[0;34m(\u001b[0m\u001b[0mcleaned_df\u001b[0m\u001b[0;34m)\u001b[0m\u001b[0;34m\u001b[0m\u001b[0;34m\u001b[0m\u001b[0m\n",
      "\u001b[0;32m<ipython-input-84-57573d0c9fcf>\u001b[0m in \u001b[0;36mget_clean_data\u001b[0;34m(df)\u001b[0m\n\u001b[1;32m     46\u001b[0m             \u001b[0mnewy\u001b[0m \u001b[0;34m=\u001b[0m \u001b[0mlibrosa\u001b[0m\u001b[0;34m.\u001b[0m\u001b[0meffects\u001b[0m\u001b[0;34m.\u001b[0m\u001b[0mpitch_shift\u001b[0m\u001b[0;34m(\u001b[0m\u001b[0my\u001b[0m\u001b[0;34m,\u001b[0m \u001b[0msr\u001b[0m\u001b[0;34m,\u001b[0m \u001b[0mn_steps\u001b[0m\u001b[0;34m=\u001b[0m\u001b[0;34m-\u001b[0m\u001b[0;36m1\u001b[0m\u001b[0;34m)\u001b[0m\u001b[0;34m\u001b[0m\u001b[0;34m\u001b[0m\u001b[0m\n\u001b[1;32m     47\u001b[0m         \u001b[0;32melif\u001b[0m \u001b[0mpitch\u001b[0m \u001b[0;34m==\u001b[0m \u001b[0;34m'D'\u001b[0m\u001b[0;34m:\u001b[0m\u001b[0;34m\u001b[0m\u001b[0;34m\u001b[0m\u001b[0m\n\u001b[0;32m---> 48\u001b[0;31m             \u001b[0mnewy\u001b[0m \u001b[0;34m=\u001b[0m \u001b[0mlibrosa\u001b[0m\u001b[0;34m.\u001b[0m\u001b[0meffects\u001b[0m\u001b[0;34m.\u001b[0m\u001b[0mpitch_shift\u001b[0m\u001b[0;34m(\u001b[0m\u001b[0my\u001b[0m\u001b[0;34m,\u001b[0m \u001b[0msr\u001b[0m\u001b[0;34m,\u001b[0m \u001b[0mn_steps\u001b[0m\u001b[0;34m=\u001b[0m\u001b[0;34m-\u001b[0m\u001b[0;36m2\u001b[0m\u001b[0;34m)\u001b[0m\u001b[0;34m\u001b[0m\u001b[0;34m\u001b[0m\u001b[0m\n\u001b[0m\u001b[1;32m     49\u001b[0m         \u001b[0;32melif\u001b[0m \u001b[0mpitch\u001b[0m \u001b[0;34m==\u001b[0m \u001b[0;34m'D#'\u001b[0m\u001b[0;34m:\u001b[0m\u001b[0;34m\u001b[0m\u001b[0;34m\u001b[0m\u001b[0m\n\u001b[1;32m     50\u001b[0m             \u001b[0mnewy\u001b[0m \u001b[0;34m=\u001b[0m \u001b[0mlibrosa\u001b[0m\u001b[0;34m.\u001b[0m\u001b[0meffects\u001b[0m\u001b[0;34m.\u001b[0m\u001b[0mpitch_shift\u001b[0m\u001b[0;34m(\u001b[0m\u001b[0my\u001b[0m\u001b[0;34m,\u001b[0m \u001b[0msr\u001b[0m\u001b[0;34m,\u001b[0m \u001b[0mn_steps\u001b[0m\u001b[0;34m=\u001b[0m\u001b[0;34m-\u001b[0m\u001b[0;36m3\u001b[0m\u001b[0;34m)\u001b[0m\u001b[0;34m\u001b[0m\u001b[0;34m\u001b[0m\u001b[0m\n",
      "\u001b[0;32m/anaconda3/lib/python3.6/site-packages/librosa/effects.py\u001b[0m in \u001b[0;36mpitch_shift\u001b[0;34m(y, sr, n_steps, bins_per_octave, res_type, **kwargs)\u001b[0m\n\u001b[1;32m    312\u001b[0m \u001b[0;34m\u001b[0m\u001b[0m\n\u001b[1;32m    313\u001b[0m     \u001b[0;31m# Stretch in time, then resample\u001b[0m\u001b[0;34m\u001b[0m\u001b[0;34m\u001b[0m\u001b[0;34m\u001b[0m\u001b[0m\n\u001b[0;32m--> 314\u001b[0;31m     y_shift = core.resample(time_stretch(y, rate, **kwargs), float(sr)/rate, sr,\n\u001b[0m\u001b[1;32m    315\u001b[0m                             res_type=res_type)\n\u001b[1;32m    316\u001b[0m \u001b[0;34m\u001b[0m\u001b[0m\n",
      "\u001b[0;32m/anaconda3/lib/python3.6/site-packages/librosa/effects.py\u001b[0m in \u001b[0;36mtime_stretch\u001b[0;34m(y, rate, **kwargs)\u001b[0m\n\u001b[1;32m    233\u001b[0m \u001b[0;34m\u001b[0m\u001b[0m\n\u001b[1;32m    234\u001b[0m     \u001b[0;31m# Construct the short-term Fourier transform (STFT)\u001b[0m\u001b[0;34m\u001b[0m\u001b[0;34m\u001b[0m\u001b[0;34m\u001b[0m\u001b[0m\n\u001b[0;32m--> 235\u001b[0;31m     \u001b[0mstft\u001b[0m \u001b[0;34m=\u001b[0m \u001b[0mcore\u001b[0m\u001b[0;34m.\u001b[0m\u001b[0mstft\u001b[0m\u001b[0;34m(\u001b[0m\u001b[0my\u001b[0m\u001b[0;34m,\u001b[0m \u001b[0;34m**\u001b[0m\u001b[0mkwargs\u001b[0m\u001b[0;34m)\u001b[0m\u001b[0;34m\u001b[0m\u001b[0;34m\u001b[0m\u001b[0m\n\u001b[0m\u001b[1;32m    236\u001b[0m \u001b[0;34m\u001b[0m\u001b[0m\n\u001b[1;32m    237\u001b[0m     \u001b[0;31m# Stretch by phase vocoding\u001b[0m\u001b[0;34m\u001b[0m\u001b[0;34m\u001b[0m\u001b[0;34m\u001b[0m\u001b[0m\n",
      "\u001b[0;32m/anaconda3/lib/python3.6/site-packages/librosa/core/spectrum.py\u001b[0m in \u001b[0;36mstft\u001b[0;34m(y, n_fft, hop_length, win_length, window, center, dtype, pad_mode)\u001b[0m\n\u001b[1;32m    213\u001b[0m \u001b[0;34m\u001b[0m\u001b[0m\n\u001b[1;32m    214\u001b[0m     \u001b[0;31m# Check audio is valid\u001b[0m\u001b[0;34m\u001b[0m\u001b[0;34m\u001b[0m\u001b[0;34m\u001b[0m\u001b[0m\n\u001b[0;32m--> 215\u001b[0;31m     \u001b[0mutil\u001b[0m\u001b[0;34m.\u001b[0m\u001b[0mvalid_audio\u001b[0m\u001b[0;34m(\u001b[0m\u001b[0my\u001b[0m\u001b[0;34m)\u001b[0m\u001b[0;34m\u001b[0m\u001b[0;34m\u001b[0m\u001b[0m\n\u001b[0m\u001b[1;32m    216\u001b[0m \u001b[0;34m\u001b[0m\u001b[0m\n\u001b[1;32m    217\u001b[0m     \u001b[0;31m# Pad the time series so that frames are centered\u001b[0m\u001b[0;34m\u001b[0m\u001b[0;34m\u001b[0m\u001b[0;34m\u001b[0m\u001b[0m\n",
      "\u001b[0;32m/anaconda3/lib/python3.6/site-packages/librosa/util/utils.py\u001b[0m in \u001b[0;36mvalid_audio\u001b[0;34m(y, mono)\u001b[0m\n\u001b[1;32m    259\u001b[0m \u001b[0;34m\u001b[0m\u001b[0m\n\u001b[1;32m    260\u001b[0m     \u001b[0;32mif\u001b[0m \u001b[0;32mnot\u001b[0m \u001b[0misinstance\u001b[0m\u001b[0;34m(\u001b[0m\u001b[0my\u001b[0m\u001b[0;34m,\u001b[0m \u001b[0mnp\u001b[0m\u001b[0;34m.\u001b[0m\u001b[0mndarray\u001b[0m\u001b[0;34m)\u001b[0m\u001b[0;34m:\u001b[0m\u001b[0;34m\u001b[0m\u001b[0;34m\u001b[0m\u001b[0m\n\u001b[0;32m--> 261\u001b[0;31m         \u001b[0;32mraise\u001b[0m \u001b[0mParameterError\u001b[0m\u001b[0;34m(\u001b[0m\u001b[0;34m'Audio data must be of type numpy.ndarray'\u001b[0m\u001b[0;34m)\u001b[0m\u001b[0;34m\u001b[0m\u001b[0;34m\u001b[0m\u001b[0m\n\u001b[0m\u001b[1;32m    262\u001b[0m \u001b[0;34m\u001b[0m\u001b[0m\n\u001b[1;32m    263\u001b[0m     \u001b[0;32mif\u001b[0m \u001b[0;32mnot\u001b[0m \u001b[0mnp\u001b[0m\u001b[0;34m.\u001b[0m\u001b[0missubdtype\u001b[0m\u001b[0;34m(\u001b[0m\u001b[0my\u001b[0m\u001b[0;34m.\u001b[0m\u001b[0mdtype\u001b[0m\u001b[0;34m,\u001b[0m \u001b[0mnp\u001b[0m\u001b[0;34m.\u001b[0m\u001b[0mfloating\u001b[0m\u001b[0;34m)\u001b[0m\u001b[0;34m:\u001b[0m\u001b[0;34m\u001b[0m\u001b[0;34m\u001b[0m\u001b[0m\n",
      "\u001b[0;31mParameterError\u001b[0m: Audio data must be of type numpy.ndarray"
     ]
    }
   ],
   "source": [
    "bilawal = calculate_stats(y_array,sr_array,names)"
   ]
  },
  {
   "cell_type": "code",
   "execution_count": null,
   "metadata": {},
   "outputs": [],
   "source": []
  },
  {
   "cell_type": "code",
   "execution_count": null,
   "metadata": {},
   "outputs": [],
   "source": []
  }
 ],
 "metadata": {
  "kernelspec": {
   "display_name": "Python 3",
   "language": "python",
   "name": "python3"
  },
  "language_info": {
   "codemirror_mode": {
    "name": "ipython",
    "version": 3
   },
   "file_extension": ".py",
   "mimetype": "text/x-python",
   "name": "python",
   "nbconvert_exporter": "python",
   "pygments_lexer": "ipython3",
   "version": "3.6.8"
  }
 },
 "nbformat": 4,
 "nbformat_minor": 2
}
